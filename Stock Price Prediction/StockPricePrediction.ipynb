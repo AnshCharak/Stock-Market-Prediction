{
  "nbformat": 4,
  "nbformat_minor": 0,
  "metadata": {
    "kernelspec": {
      "display_name": "Python 3",
      "language": "python",
      "name": "python3"
    },
    "language_info": {
      "codemirror_mode": {
        "name": "ipython",
        "version": 3
      },
      "file_extension": ".py",
      "mimetype": "text/x-python",
      "name": "python",
      "nbconvert_exporter": "python",
      "pygments_lexer": "ipython3",
      "version": "3.6.9"
    },
    "colab": {
      "name": "StockPricePrediction.ipynb",
      "provenance": [],
      "collapsed_sections": []
    }
  },
  "cells": [
    {
      "cell_type": "markdown",
      "metadata": {
        "id": "s4qxM_YHvQVG"
      },
      "source": [
        "### Stock Market Prediction And Forecasting Using Stacked LSTM"
      ]
    },
    {
      "cell_type": "code",
      "metadata": {
        "id": "UL3rbyUPvQVP"
      },
      "source": [
        "### Data Collection\n",
        "import pandas_datareader as pdr\n",
        "key=\"3204299e61f9d128c579936732329f684cee11ba\""
      ],
      "execution_count": 1,
      "outputs": []
    },
    {
      "cell_type": "code",
      "metadata": {
        "id": "qEKbF-hNvQVQ"
      },
      "source": [
        "df = pdr.get_data_tiingo('AAPL', api_key=key)"
      ],
      "execution_count": 2,
      "outputs": []
    },
    {
      "cell_type": "code",
      "metadata": {
        "id": "wfilWS_nvQVQ"
      },
      "source": [
        "df.to_csv('AAPL.csv')"
      ],
      "execution_count": 3,
      "outputs": []
    },
    {
      "cell_type": "code",
      "metadata": {
        "id": "ZOJ3PDGyvQVQ"
      },
      "source": [
        "import pandas as pd"
      ],
      "execution_count": 4,
      "outputs": []
    },
    {
      "cell_type": "code",
      "metadata": {
        "id": "uyaXvIfHvQVR"
      },
      "source": [
        "df=pd.read_csv('AAPL.csv')"
      ],
      "execution_count": 5,
      "outputs": []
    },
    {
      "cell_type": "code",
      "metadata": {
        "colab": {
          "base_uri": "https://localhost:8080/",
          "height": 309
        },
        "id": "2a6Zc1g4vQVS",
        "outputId": "1f09bc84-4899-448f-c1ad-80eccd7196c6"
      },
      "source": [
        "df.head()"
      ],
      "execution_count": 6,
      "outputs": [
        {
          "output_type": "execute_result",
          "data": {
            "text/html": [
              "<div>\n",
              "<style scoped>\n",
              "    .dataframe tbody tr th:only-of-type {\n",
              "        vertical-align: middle;\n",
              "    }\n",
              "\n",
              "    .dataframe tbody tr th {\n",
              "        vertical-align: top;\n",
              "    }\n",
              "\n",
              "    .dataframe thead th {\n",
              "        text-align: right;\n",
              "    }\n",
              "</style>\n",
              "<table border=\"1\" class=\"dataframe\">\n",
              "  <thead>\n",
              "    <tr style=\"text-align: right;\">\n",
              "      <th></th>\n",
              "      <th>symbol</th>\n",
              "      <th>date</th>\n",
              "      <th>close</th>\n",
              "      <th>high</th>\n",
              "      <th>low</th>\n",
              "      <th>open</th>\n",
              "      <th>volume</th>\n",
              "      <th>adjClose</th>\n",
              "      <th>adjHigh</th>\n",
              "      <th>adjLow</th>\n",
              "      <th>adjOpen</th>\n",
              "      <th>adjVolume</th>\n",
              "      <th>divCash</th>\n",
              "      <th>splitFactor</th>\n",
              "    </tr>\n",
              "  </thead>\n",
              "  <tbody>\n",
              "    <tr>\n",
              "      <th>0</th>\n",
              "      <td>AAPL</td>\n",
              "      <td>2016-07-25 00:00:00+00:00</td>\n",
              "      <td>97.34</td>\n",
              "      <td>98.84</td>\n",
              "      <td>96.92</td>\n",
              "      <td>98.250</td>\n",
              "      <td>40382921</td>\n",
              "      <td>22.730199</td>\n",
              "      <td>23.080469</td>\n",
              "      <td>22.632123</td>\n",
              "      <td>22.942696</td>\n",
              "      <td>161531684</td>\n",
              "      <td>0.0</td>\n",
              "      <td>1.0</td>\n",
              "    </tr>\n",
              "    <tr>\n",
              "      <th>1</th>\n",
              "      <td>AAPL</td>\n",
              "      <td>2016-07-26 00:00:00+00:00</td>\n",
              "      <td>96.67</td>\n",
              "      <td>97.97</td>\n",
              "      <td>96.42</td>\n",
              "      <td>96.820</td>\n",
              "      <td>56239822</td>\n",
              "      <td>22.573745</td>\n",
              "      <td>22.877312</td>\n",
              "      <td>22.515367</td>\n",
              "      <td>22.608772</td>\n",
              "      <td>224959288</td>\n",
              "      <td>0.0</td>\n",
              "      <td>1.0</td>\n",
              "    </tr>\n",
              "    <tr>\n",
              "      <th>2</th>\n",
              "      <td>AAPL</td>\n",
              "      <td>2016-07-27 00:00:00+00:00</td>\n",
              "      <td>102.95</td>\n",
              "      <td>104.35</td>\n",
              "      <td>102.75</td>\n",
              "      <td>104.265</td>\n",
              "      <td>92344820</td>\n",
              "      <td>24.040209</td>\n",
              "      <td>24.367128</td>\n",
              "      <td>23.993507</td>\n",
              "      <td>24.347280</td>\n",
              "      <td>369379280</td>\n",
              "      <td>0.0</td>\n",
              "      <td>1.0</td>\n",
              "    </tr>\n",
              "    <tr>\n",
              "      <th>3</th>\n",
              "      <td>AAPL</td>\n",
              "      <td>2016-07-28 00:00:00+00:00</td>\n",
              "      <td>104.34</td>\n",
              "      <td>104.45</td>\n",
              "      <td>102.82</td>\n",
              "      <td>102.830</td>\n",
              "      <td>39869839</td>\n",
              "      <td>24.364793</td>\n",
              "      <td>24.390480</td>\n",
              "      <td>24.009853</td>\n",
              "      <td>24.012188</td>\n",
              "      <td>159479356</td>\n",
              "      <td>0.0</td>\n",
              "      <td>1.0</td>\n",
              "    </tr>\n",
              "    <tr>\n",
              "      <th>4</th>\n",
              "      <td>AAPL</td>\n",
              "      <td>2016-07-29 00:00:00+00:00</td>\n",
              "      <td>104.21</td>\n",
              "      <td>104.55</td>\n",
              "      <td>103.68</td>\n",
              "      <td>104.190</td>\n",
              "      <td>27733688</td>\n",
              "      <td>24.334436</td>\n",
              "      <td>24.413831</td>\n",
              "      <td>24.210674</td>\n",
              "      <td>24.329766</td>\n",
              "      <td>110934752</td>\n",
              "      <td>0.0</td>\n",
              "      <td>1.0</td>\n",
              "    </tr>\n",
              "  </tbody>\n",
              "</table>\n",
              "</div>"
            ],
            "text/plain": [
              "  symbol                       date   close  ...  adjVolume  divCash  splitFactor\n",
              "0   AAPL  2016-07-25 00:00:00+00:00   97.34  ...  161531684      0.0          1.0\n",
              "1   AAPL  2016-07-26 00:00:00+00:00   96.67  ...  224959288      0.0          1.0\n",
              "2   AAPL  2016-07-27 00:00:00+00:00  102.95  ...  369379280      0.0          1.0\n",
              "3   AAPL  2016-07-28 00:00:00+00:00  104.34  ...  159479356      0.0          1.0\n",
              "4   AAPL  2016-07-29 00:00:00+00:00  104.21  ...  110934752      0.0          1.0\n",
              "\n",
              "[5 rows x 14 columns]"
            ]
          },
          "metadata": {
            "tags": []
          },
          "execution_count": 6
        }
      ]
    },
    {
      "cell_type": "code",
      "metadata": {
        "colab": {
          "base_uri": "https://localhost:8080/",
          "height": 309
        },
        "id": "Btq53VhXvQVT",
        "outputId": "60295890-c56b-4c62-9291-f560bfd34da7"
      },
      "source": [
        "df.tail()"
      ],
      "execution_count": 7,
      "outputs": [
        {
          "output_type": "execute_result",
          "data": {
            "text/html": [
              "<div>\n",
              "<style scoped>\n",
              "    .dataframe tbody tr th:only-of-type {\n",
              "        vertical-align: middle;\n",
              "    }\n",
              "\n",
              "    .dataframe tbody tr th {\n",
              "        vertical-align: top;\n",
              "    }\n",
              "\n",
              "    .dataframe thead th {\n",
              "        text-align: right;\n",
              "    }\n",
              "</style>\n",
              "<table border=\"1\" class=\"dataframe\">\n",
              "  <thead>\n",
              "    <tr style=\"text-align: right;\">\n",
              "      <th></th>\n",
              "      <th>symbol</th>\n",
              "      <th>date</th>\n",
              "      <th>close</th>\n",
              "      <th>high</th>\n",
              "      <th>low</th>\n",
              "      <th>open</th>\n",
              "      <th>volume</th>\n",
              "      <th>adjClose</th>\n",
              "      <th>adjHigh</th>\n",
              "      <th>adjLow</th>\n",
              "      <th>adjOpen</th>\n",
              "      <th>adjVolume</th>\n",
              "      <th>divCash</th>\n",
              "      <th>splitFactor</th>\n",
              "    </tr>\n",
              "  </thead>\n",
              "  <tbody>\n",
              "    <tr>\n",
              "      <th>1252</th>\n",
              "      <td>AAPL</td>\n",
              "      <td>2021-07-15 00:00:00+00:00</td>\n",
              "      <td>148.48</td>\n",
              "      <td>150.0000</td>\n",
              "      <td>147.09</td>\n",
              "      <td>149.24</td>\n",
              "      <td>106820297</td>\n",
              "      <td>148.48</td>\n",
              "      <td>150.0000</td>\n",
              "      <td>147.09</td>\n",
              "      <td>149.24</td>\n",
              "      <td>106820297</td>\n",
              "      <td>0.0</td>\n",
              "      <td>1.0</td>\n",
              "    </tr>\n",
              "    <tr>\n",
              "      <th>1253</th>\n",
              "      <td>AAPL</td>\n",
              "      <td>2021-07-16 00:00:00+00:00</td>\n",
              "      <td>146.39</td>\n",
              "      <td>149.7600</td>\n",
              "      <td>145.88</td>\n",
              "      <td>148.46</td>\n",
              "      <td>93251426</td>\n",
              "      <td>146.39</td>\n",
              "      <td>149.7600</td>\n",
              "      <td>145.88</td>\n",
              "      <td>148.46</td>\n",
              "      <td>93251426</td>\n",
              "      <td>0.0</td>\n",
              "      <td>1.0</td>\n",
              "    </tr>\n",
              "    <tr>\n",
              "      <th>1254</th>\n",
              "      <td>AAPL</td>\n",
              "      <td>2021-07-19 00:00:00+00:00</td>\n",
              "      <td>142.45</td>\n",
              "      <td>144.0700</td>\n",
              "      <td>141.67</td>\n",
              "      <td>143.75</td>\n",
              "      <td>121434571</td>\n",
              "      <td>142.45</td>\n",
              "      <td>144.0700</td>\n",
              "      <td>141.67</td>\n",
              "      <td>143.75</td>\n",
              "      <td>121434571</td>\n",
              "      <td>0.0</td>\n",
              "      <td>1.0</td>\n",
              "    </tr>\n",
              "    <tr>\n",
              "      <th>1255</th>\n",
              "      <td>AAPL</td>\n",
              "      <td>2021-07-20 00:00:00+00:00</td>\n",
              "      <td>146.15</td>\n",
              "      <td>147.0997</td>\n",
              "      <td>142.96</td>\n",
              "      <td>143.46</td>\n",
              "      <td>96350036</td>\n",
              "      <td>146.15</td>\n",
              "      <td>147.0997</td>\n",
              "      <td>142.96</td>\n",
              "      <td>143.46</td>\n",
              "      <td>96350036</td>\n",
              "      <td>0.0</td>\n",
              "      <td>1.0</td>\n",
              "    </tr>\n",
              "    <tr>\n",
              "      <th>1256</th>\n",
              "      <td>AAPL</td>\n",
              "      <td>2021-07-21 00:00:00+00:00</td>\n",
              "      <td>145.40</td>\n",
              "      <td>146.1300</td>\n",
              "      <td>144.63</td>\n",
              "      <td>145.53</td>\n",
              "      <td>74993460</td>\n",
              "      <td>145.40</td>\n",
              "      <td>146.1300</td>\n",
              "      <td>144.63</td>\n",
              "      <td>145.53</td>\n",
              "      <td>74993460</td>\n",
              "      <td>0.0</td>\n",
              "      <td>1.0</td>\n",
              "    </tr>\n",
              "  </tbody>\n",
              "</table>\n",
              "</div>"
            ],
            "text/plain": [
              "     symbol                       date   close  ...  adjVolume  divCash  splitFactor\n",
              "1252   AAPL  2021-07-15 00:00:00+00:00  148.48  ...  106820297      0.0          1.0\n",
              "1253   AAPL  2021-07-16 00:00:00+00:00  146.39  ...   93251426      0.0          1.0\n",
              "1254   AAPL  2021-07-19 00:00:00+00:00  142.45  ...  121434571      0.0          1.0\n",
              "1255   AAPL  2021-07-20 00:00:00+00:00  146.15  ...   96350036      0.0          1.0\n",
              "1256   AAPL  2021-07-21 00:00:00+00:00  145.40  ...   74993460      0.0          1.0\n",
              "\n",
              "[5 rows x 14 columns]"
            ]
          },
          "metadata": {
            "tags": []
          },
          "execution_count": 7
        }
      ]
    },
    {
      "cell_type": "code",
      "metadata": {
        "id": "2kGf9nP6vQVT"
      },
      "source": [
        "df1=df.reset_index()['close']"
      ],
      "execution_count": 8,
      "outputs": []
    },
    {
      "cell_type": "code",
      "metadata": {
        "colab": {
          "base_uri": "https://localhost:8080/"
        },
        "id": "B4sZXdvXvQVT",
        "outputId": "8c692fc9-4f12-44fe-9bf4-2fdbd65b46c9"
      },
      "source": [
        "df1"
      ],
      "execution_count": 9,
      "outputs": [
        {
          "output_type": "execute_result",
          "data": {
            "text/plain": [
              "0        97.34\n",
              "1        96.67\n",
              "2       102.95\n",
              "3       104.34\n",
              "4       104.21\n",
              "         ...  \n",
              "1252    148.48\n",
              "1253    146.39\n",
              "1254    142.45\n",
              "1255    146.15\n",
              "1256    145.40\n",
              "Name: close, Length: 1257, dtype: float64"
            ]
          },
          "metadata": {
            "tags": []
          },
          "execution_count": 9
        }
      ]
    },
    {
      "cell_type": "code",
      "metadata": {
        "colab": {
          "base_uri": "https://localhost:8080/",
          "height": 282
        },
        "id": "LFaByla2vQVU",
        "outputId": "3c8ba1f4-9087-404c-ac22-e380946dbf5b"
      },
      "source": [
        "import matplotlib.pyplot as plt\n",
        "plt.plot(df1)"
      ],
      "execution_count": 10,
      "outputs": [
        {
          "output_type": "execute_result",
          "data": {
            "text/plain": [
              "[<matplotlib.lines.Line2D at 0x7f231bfead10>]"
            ]
          },
          "metadata": {
            "tags": []
          },
          "execution_count": 10
        },
        {
          "output_type": "display_data",
          "data": {
            "image/png": "[encoded data removed]",
            "text/plain": [
              "<Figure size 432x288 with 1 Axes>"
            ]
          },
          "metadata": {
            "tags": [],
            "needs_background": "light"
          }
        }
      ]
    },
    {
      "cell_type": "code",
      "metadata": {
        "id": "t6oEvjRHvQVU"
      },
      "source": [
        "### LSTM are sensitive to the scale of the data. so we apply MinMax scaler "
      ],
      "execution_count": 11,
      "outputs": []
    },
    {
      "cell_type": "code",
      "metadata": {
        "id": "VLKYcjquvQVU"
      },
      "source": [
        "import numpy as np"
      ],
      "execution_count": 12,
      "outputs": []
    },
    {
      "cell_type": "code",
      "metadata": {
        "colab": {
          "base_uri": "https://localhost:8080/"
        },
        "id": "_d3HAO0AvQVU",
        "outputId": "96546ee8-e96c-4e1b-cd11-d1b6ba555b96"
      },
      "source": [
        "df1"
      ],
      "execution_count": 13,
      "outputs": [
        {
          "output_type": "execute_result",
          "data": {
            "text/plain": [
              "0        97.34\n",
              "1        96.67\n",
              "2       102.95\n",
              "3       104.34\n",
              "4       104.21\n",
              "         ...  \n",
              "1252    148.48\n",
              "1253    146.39\n",
              "1254    142.45\n",
              "1255    146.15\n",
              "1256    145.40\n",
              "Name: close, Length: 1257, dtype: float64"
            ]
          },
          "metadata": {
            "tags": []
          },
          "execution_count": 13
        }
      ]
    },
    {
      "cell_type": "code",
      "metadata": {
        "id": "_uTzzg82vQVV"
      },
      "source": [
        "from sklearn.preprocessing import MinMaxScaler\n",
        "scaler=MinMaxScaler(feature_range=(0,1))\n",
        "df1=scaler.fit_transform(np.array(df1).reshape(-1,1))"
      ],
      "execution_count": 14,
      "outputs": []
    },
    {
      "cell_type": "code",
      "metadata": {
        "colab": {
          "base_uri": "https://localhost:8080/"
        },
        "id": "5UgL9jX9vQVV",
        "outputId": "17806ad5-acca-4f43-c88d-67c40add3cf5"
      },
      "source": [
        "print(df1)"
      ],
      "execution_count": 15,
      "outputs": [
        {
          "output_type": "stream",
          "text": [
            "[[0.00163646]\n",
            " [0.        ]\n",
            " [0.01533877]\n",
            " ...\n",
            " [0.11181672]\n",
            " [0.12085389]\n",
            " [0.11902203]]\n"
          ],
          "name": "stdout"
        }
      ]
    },
    {
      "cell_type": "code",
      "metadata": {
        "id": "FhI-3rDwvQVV"
      },
      "source": [
        "##splitting dataset into train and test split\n",
        "training_size=int(len(df1)*0.65)\n",
        "test_size=len(df1)-training_size\n",
        "train_data,test_data=df1[0:training_size,:],df1[training_size:len(df1),:1]"
      ],
      "execution_count": 16,
      "outputs": []
    },
    {
      "cell_type": "code",
      "metadata": {
        "colab": {
          "base_uri": "https://localhost:8080/"
        },
        "id": "yDCaxY8nvQVV",
        "outputId": "462d2393-b70c-4cf3-f6ce-836c1ca561eb"
      },
      "source": [
        "training_size,test_size"
      ],
      "execution_count": 17,
      "outputs": [
        {
          "output_type": "execute_result",
          "data": {
            "text/plain": [
              "(817, 440)"
            ]
          },
          "metadata": {
            "tags": []
          },
          "execution_count": 17
        }
      ]
    },
    {
      "cell_type": "code",
      "metadata": {
        "colab": {
          "base_uri": "https://localhost:8080/"
        },
        "id": "R8XQ0zX2vQVW",
        "outputId": "72875978-d4dc-49ac-81e9-5b3e829ea684"
      },
      "source": [
        "train_data"
      ],
      "execution_count": 18,
      "outputs": [
        {
          "output_type": "execute_result",
          "data": {
            "text/plain": [
              "array([[0.00163646],\n",
              "       [0.        ],\n",
              "       [0.01533877],\n",
              "       [0.01873382],\n",
              "       [0.0184163 ],\n",
              "       [0.02291046],\n",
              "       [0.01907577],\n",
              "       [0.02227541],\n",
              "       [0.02247081],\n",
              "       [0.0264032 ],\n",
              "       [0.02857701],\n",
              "       [0.0296517 ],\n",
              "       [0.02767329],\n",
              "       [0.02750232],\n",
              "       [0.02811294],\n",
              "       [0.03128816],\n",
              "       [0.03104392],\n",
              "       [0.03065312],\n",
              "       [0.03031117],\n",
              "       [0.03099507],\n",
              "       [0.02891896],\n",
              "       [0.0297494 ],\n",
              "       [0.02774657],\n",
              "       [0.02662303],\n",
              "       [0.02508427],\n",
              "       [0.02479117],\n",
              "       [0.02278833],\n",
              "       [0.02303258],\n",
              "       [0.02457134],\n",
              "       [0.02701382],\n",
              "       [0.02694055],\n",
              "       [0.02855259],\n",
              "       [0.02161594],\n",
              "       [0.01577842],\n",
              "       [0.02142055],\n",
              "       [0.02755117],\n",
              "       [0.03688144],\n",
              "       [0.04616286],\n",
              "       [0.04457525],\n",
              "       [0.04130233],\n",
              "       [0.04127791],\n",
              "       [0.04122906],\n",
              "       [0.04384251],\n",
              "       [0.03917737],\n",
              "       [0.03959259],\n",
              "       [0.04010552],\n",
              "       [0.04220605],\n",
              "       [0.03788286],\n",
              "       [0.04000782],\n",
              "       [0.0387133 ],\n",
              "       [0.03988569],\n",
              "       [0.04000782],\n",
              "       [0.0420595 ],\n",
              "       [0.04247472],\n",
              "       [0.04733525],\n",
              "       [0.04794587],\n",
              "       [0.05048605],\n",
              "       [0.04960676],\n",
              "       [0.05119437],\n",
              "       [0.05099897],\n",
              "       [0.05080358],\n",
              "       [0.04994871],\n",
              "       [0.04980216],\n",
              "       [0.04867862],\n",
              "       [0.05124322],\n",
              "       [0.05270871],\n",
              "       [0.04621171],\n",
              "       [0.04350056],\n",
              "       [0.04164428],\n",
              "       [0.04120463],\n",
              "       [0.03619755],\n",
              "       [0.0364418 ],\n",
              "       [0.03214303],\n",
              "       [0.02972498],\n",
              "       [0.03355967],\n",
              "       [0.03514728],\n",
              "       [0.03470764],\n",
              "       [0.02716037],\n",
              "       [0.02872356],\n",
              "       [0.02208002],\n",
              "       [0.02549949],\n",
              "       [0.03253383],\n",
              "       [0.03243613],\n",
              "       [0.0327048 ],\n",
              "       [0.03678374],\n",
              "       [0.03695472],\n",
              "       [0.0355625 ],\n",
              "       [0.03693029],\n",
              "       [0.03639295],\n",
              "       [0.03612427],\n",
              "       [0.03382834],\n",
              "       [0.03131259],\n",
              "       [0.03231401],\n",
              "       [0.03038445],\n",
              "       [0.03243613],\n",
              "       [0.03507401],\n",
              "       [0.03773631],\n",
              "       [0.04220605],\n",
              "       [0.04061844],\n",
              "       [0.04523472],\n",
              "       [0.04523472],\n",
              "       [0.04677348],\n",
              "       [0.04713986],\n",
              "       [0.04877632],\n",
              "       [0.04953349],\n",
              "       [0.04980216],\n",
              "       [0.04792145],\n",
              "       [0.04848322],\n",
              "       [0.05029066],\n",
              "       [0.04906942],\n",
              "       [0.04899614],\n",
              "       [0.04677348],\n",
              "       [0.0475795 ],\n",
              "       [0.04726198],\n",
              "       [0.04870304],\n",
              "       [0.05187827],\n",
              "       [0.05451614],\n",
              "       [0.05480924],\n",
              "       [0.05637243],\n",
              "       [0.05515119],\n",
              "       [0.05463827],\n",
              "       [0.05698305],\n",
              "       [0.05695862],\n",
              "       [0.0564457 ],\n",
              "       [0.05698305],\n",
              "       [0.05717845],\n",
              "       [0.05690977],\n",
              "       [0.06157491],\n",
              "       [0.06172146],\n",
              "       [0.06174588],\n",
              "       [0.06096429],\n",
              "       [0.0602804 ],\n",
              "       [0.07835475],\n",
              "       [0.0778174 ],\n",
              "       [0.07916076],\n",
              "       [0.08211616],\n",
              "       [0.08514484],\n",
              "       [0.0863905 ],\n",
              "       [0.08731865],\n",
              "       [0.0865859 ],\n",
              "       [0.0894436 ],\n",
              "       [0.09366909],\n",
              "       [0.09486591],\n",
              "       [0.0944629 ],\n",
              "       [0.09537883],\n",
              "       [0.09777246],\n",
              "       [0.09877388],\n",
              "       [0.09735724],\n",
              "       [0.09767476],\n",
              "       [0.09833423],\n",
              "       [0.09848078],\n",
              "       [0.10531972],\n",
              "       [0.10329246],\n",
              "       [0.1052953 ],\n",
              "       [0.1042206 ],\n",
              "       [0.10466025],\n",
              "       [0.10339016],\n",
              "       [0.10260857],\n",
              "       [0.10373211],\n",
              "       [0.10387866],\n",
              "       [0.10336574],\n",
              "       [0.10695618],\n",
              "       [0.10751795],\n",
              "       [0.10580822],\n",
              "       [0.10939866],\n",
              "       [0.10544184],\n",
              "       [0.10930096],\n",
              "       [0.10807972],\n",
              "       [0.10739583],\n",
              "       [0.10798202],\n",
              "       [0.11511406],\n",
              "       [0.11589566],\n",
              "       [0.11543159],\n",
              "       [0.11477212],\n",
              "       [0.11486982],\n",
              "       [0.11748327],\n",
              "       [0.11565141],\n",
              "       [0.11477212],\n",
              "       [0.11399052],\n",
              "       [0.1135753 ],\n",
              "       [0.10981388],\n",
              "       [0.1102291 ],\n",
              "       [0.10839724],\n",
              "       [0.11030238],\n",
              "       [0.10876362],\n",
              "       [0.10749353],\n",
              "       [0.11179229],\n",
              "       [0.11137707],\n",
              "       [0.11472327],\n",
              "       [0.11689707],\n",
              "       [0.11482097],\n",
              "       [0.11508964],\n",
              "       [0.11474769],\n",
              "       [0.12190416],\n",
              "       [0.12417566],\n",
              "       [0.12307655],\n",
              "       [0.12178203],\n",
              "       [0.12771726],\n",
              "       [0.1376093 ],\n",
              "       [0.14000293],\n",
              "       [0.13821992],\n",
              "       [0.13990523],\n",
              "       [0.14515656],\n",
              "       [0.14417957],\n",
              "       [0.1436178 ],\n",
              "       [0.13086806],\n",
              "       [0.13646134],\n",
              "       [0.13773142],\n",
              "       [0.14000293],\n",
              "       [0.13953886],\n",
              "       [0.13841532],\n",
              "       [0.13970983],\n",
              "       [0.13907479],\n",
              "       [0.13922134],\n",
              "       [0.13699868],\n",
              "       [0.13802452],\n",
              "       [0.14356895],\n",
              "       [0.13985638],\n",
              "       [0.14112647],\n",
              "       [0.14337355],\n",
              "       [0.14244541],\n",
              "       [0.12776611],\n",
              "       [0.11907088],\n",
              "       [0.12192858],\n",
              "       [0.11843584],\n",
              "       [0.11631088],\n",
              "       [0.11137707],\n",
              "       [0.12131796],\n",
              "       [0.11806946],\n",
              "       [0.12017   ],\n",
              "       [0.1195838 ],\n",
              "       [0.12117141],\n",
              "       [0.12004787],\n",
              "       [0.11494309],\n",
              "       [0.1200723 ],\n",
              "       [0.11482097],\n",
              "       [0.11565141],\n",
              "       [0.11438132],\n",
              "       [0.11582238],\n",
              "       [0.11250061],\n",
              "       [0.11604221],\n",
              "       [0.11819159],\n",
              "       [0.11933955],\n",
              "       [0.11985247],\n",
              "       [0.12481071],\n",
              "       [0.12791266],\n",
              "       [0.12918275],\n",
              "       [0.13045284],\n",
              "       [0.13274877],\n",
              "       [0.13108788],\n",
              "       [0.13091691],\n",
              "       [0.13536222],\n",
              "       [0.13694983],\n",
              "       [0.13870842],\n",
              "       [0.13162523],\n",
              "       [0.1290362 ],\n",
              "       [0.12715549],\n",
              "       [0.13037956],\n",
              "       [0.14769674],\n",
              "       [0.14386205],\n",
              "       [0.14586488],\n",
              "       [0.15177568],\n",
              "       [0.15487763],\n",
              "       [0.15727126],\n",
              "       [0.14325143],\n",
              "       [0.14852718],\n",
              "       [0.15431586],\n",
              "       [0.1585902 ],\n",
              "       [0.15700259],\n",
              "       [0.14945533],\n",
              "       [0.14857603],\n",
              "       [0.14786772],\n",
              "       [0.15414489],\n",
              "       [0.15463338],\n",
              "       [0.15289922],\n",
              "       [0.15434029],\n",
              "       [0.15827268],\n",
              "       [0.16178985],\n",
              "       [0.16286454],\n",
              "       [0.16445215],\n",
              "       [0.16457428],\n",
              "       [0.15976259],\n",
              "       [0.15934737],\n",
              "       [0.15775976],\n",
              "       [0.15133604],\n",
              "       [0.15834595],\n",
              "       [0.15678277],\n",
              "       [0.15382737],\n",
              "       [0.15048117],\n",
              "       [0.15438914],\n",
              "       [0.15143374],\n",
              "       [0.15158028],\n",
              "       [0.14508329],\n",
              "       [0.13853744],\n",
              "       [0.13487372],\n",
              "       [0.1316008 ],\n",
              "       [0.13792682],\n",
              "       [0.14058913],\n",
              "       [0.13826877],\n",
              "       [0.14032045],\n",
              "       [0.13956328],\n",
              "       [0.14119975],\n",
              "       [0.13875727],\n",
              "       [0.1434224 ],\n",
              "       [0.14320258],\n",
              "       [0.14452152],\n",
              "       [0.14466807],\n",
              "       [0.14625568],\n",
              "       [0.14491231],\n",
              "       [0.14733037],\n",
              "       [0.15438914],\n",
              "       [0.1558302 ],\n",
              "       [0.15409604],\n",
              "       [0.14486347],\n",
              "       [0.14552293],\n",
              "       [0.14532754],\n",
              "       [0.14759904],\n",
              "       [0.14591373],\n",
              "       [0.14835621],\n",
              "       [0.1621318 ],\n",
              "       [0.1710957 ],\n",
              "       [0.17676225],\n",
              "       [0.17151092],\n",
              "       [0.17449074],\n",
              "       [0.18521323],\n",
              "       [0.18948757],\n",
              "       [0.19085536],\n",
              "       [0.1943481 ],\n",
              "       [0.19346881],\n",
              "       [0.19051341],\n",
              "       [0.18880367],\n",
              "       [0.18237995],\n",
              "       [0.17685995],\n",
              "       [0.18179376],\n",
              "       [0.1794734 ],\n",
              "       [0.17905818],\n",
              "       [0.18677642],\n",
              "       [0.19122173],\n",
              "       [0.19124615],\n",
              "       [0.18909677],\n",
              "       [0.18660544],\n",
              "       [0.17783694],\n",
              "       [0.18362562],\n",
              "       [0.18167163],\n",
              "       [0.17861853],\n",
              "       [0.17822774],\n",
              "       [0.17668897],\n",
              "       [0.17744614],\n",
              "       [0.17756827],\n",
              "       [0.18562845],\n",
              "       [0.18325924],\n",
              "       [0.18465146],\n",
              "       [0.18452933],\n",
              "       [0.18880367],\n",
              "       [0.19478775],\n",
              "       [0.19019589],\n",
              "       [0.18973182],\n",
              "       [0.19134385],\n",
              "       [0.19134385],\n",
              "       [0.18049924],\n",
              "       [0.18057252],\n",
              "       [0.18174491],\n",
              "       [0.17722632],\n",
              "       [0.18462703],\n",
              "       [0.18455376],\n",
              "       [0.18650774],\n",
              "       [0.19131943],\n",
              "       [0.18973182],\n",
              "       [0.18968297],\n",
              "       [0.18958527],\n",
              "       [0.19200332],\n",
              "       [0.19642421],\n",
              "       [0.19422598],\n",
              "       [0.20133359],\n",
              "       [0.20172439],\n",
              "       [0.19977041],\n",
              "       [0.19620439],\n",
              "       [0.19630209],\n",
              "       [0.18941429],\n",
              "       [0.18181818],\n",
              "       [0.18279517],\n",
              "       [0.17412437],\n",
              "       [0.17170632],\n",
              "       [0.17282986],\n",
              "       [0.17368472],\n",
              "       [0.15590347],\n",
              "       [0.14610913],\n",
              "       [0.16208295],\n",
              "       [0.15355869],\n",
              "       [0.14283621],\n",
              "       [0.14591373],\n",
              "       [0.16130135],\n",
              "       [0.16528259],\n",
              "       [0.17268331],\n",
              "       [0.18641004],\n",
              "       [0.18504225],\n",
              "       [0.18362562],\n",
              "       [0.18172048],\n",
              "       [0.18521323],\n",
              "       [0.19254067],\n",
              "       [0.20101607],\n",
              "       [0.19959943],\n",
              "       [0.19893996],\n",
              "       [0.19131943],\n",
              "       [0.19427483],\n",
              "       [0.19576474],\n",
              "       [0.19539837],\n",
              "       [0.1913927 ],\n",
              "       [0.19605784],\n",
              "       [0.20348298],\n",
              "       [0.20773289],\n",
              "       [0.20345855],\n",
              "       [0.19972156],\n",
              "       [0.20023448],\n",
              "       [0.19869572],\n",
              "       [0.19205217],\n",
              "       [0.19190562],\n",
              "       [0.18220898],\n",
              "       [0.17629818],\n",
              "       [0.16674808],\n",
              "       [0.1858727 ],\n",
              "       [0.17505251],\n",
              "       [0.1705095 ],\n",
              "       [0.17368472],\n",
              "       [0.170998  ],\n",
              "       [0.17517464],\n",
              "       [0.18303942],\n",
              "       [0.18594597],\n",
              "       [0.17515021],\n",
              "       [0.17922915],\n",
              "       [0.18704509],\n",
              "       [0.18506668],\n",
              "       [0.1892189 ],\n",
              "       [0.19065996],\n",
              "       [0.19332226],\n",
              "       [0.19923306],\n",
              "       [0.19825607],\n",
              "       [0.18594597],\n",
              "       [0.16865322],\n",
              "       [0.16748083],\n",
              "       [0.16186312],\n",
              "       [0.16359728],\n",
              "       [0.1649895 ],\n",
              "       [0.16034879],\n",
              "       [0.16752968],\n",
              "       [0.1769088 ],\n",
              "       [0.19515412],\n",
              "       [0.19593571],\n",
              "       [0.21288652],\n",
              "       [0.21613502],\n",
              "       [0.21830883],\n",
              "       [0.22150848],\n",
              "       [0.22805432],\n",
              "       [0.22451273],\n",
              "       [0.22343803],\n",
              "       [0.21926139],\n",
              "       [0.22351131],\n",
              "       [0.22060476],\n",
              "       [0.21894387],\n",
              "       [0.22216794],\n",
              "       [0.22101998],\n",
              "       [0.22395096],\n",
              "       [0.22343803],\n",
              "       [0.2244883 ],\n",
              "       [0.22282741],\n",
              "       [0.22185042],\n",
              "       [0.22031166],\n",
              "       [0.22854282],\n",
              "       [0.23242636],\n",
              "       [0.23604123],\n",
              "       [0.23767769],\n",
              "       [0.2364076 ],\n",
              "       [0.23210884],\n",
              "       [0.23096087],\n",
              "       [0.23352548],\n",
              "       [0.22966636],\n",
              "       [0.22991061],\n",
              "       [0.22512335],\n",
              "       [0.2248791 ],\n",
              "       [0.21742953],\n",
              "       [0.21940794],\n",
              "       [0.21686776],\n",
              "       [0.21554883],\n",
              "       [0.20883201],\n",
              "       [0.21435201],\n",
              "       [0.21369254],\n",
              "       [0.21696546],\n",
              "       [0.2160129 ],\n",
              "       [0.22106883],\n",
              "       [0.21310635],\n",
              "       [0.21672122],\n",
              "       [0.22299839],\n",
              "       [0.22937326],\n",
              "       [0.22881149],\n",
              "       [0.22277856],\n",
              "       [0.23047238],\n",
              "       [0.23120512],\n",
              "       [0.23017928],\n",
              "       [0.23149822],\n",
              "       [0.22893361],\n",
              "       [0.23254848],\n",
              "       [0.23147379],\n",
              "       [0.23188901],\n",
              "       [0.23528406],\n",
              "       [0.23972937],\n",
              "       [0.23823946],\n",
              "       [0.23035025],\n",
              "       [0.2277368 ],\n",
              "       [0.22866494],\n",
              "       [0.25604514],\n",
              "       [0.27043134],\n",
              "       [0.27189683],\n",
              "       [0.27453471],\n",
              "       [0.26974745],\n",
              "       [0.27008939],\n",
              "       [0.27407064],\n",
              "       [0.27077329],\n",
              "       [0.27404621],\n",
              "       [0.27619559],\n",
              "       [0.27739241],\n",
              "       [0.28491525],\n",
              "       [0.29532021],\n",
              "       [0.29014215],\n",
              "       [0.28911631],\n",
              "       [0.28914074],\n",
              "       [0.29021543],\n",
              "       [0.29185189],\n",
              "       [0.2961995 ],\n",
              "       [0.30049827],\n",
              "       [0.3085096 ],\n",
              "       [0.31351668],\n",
              "       [0.31986713],\n",
              "       [0.32165014],\n",
              "       [0.31801084],\n",
              "       [0.3088027 ],\n",
              "       [0.30440623],\n",
              "       [0.29715207],\n",
              "       [0.31063456],\n",
              "       [0.30384446],\n",
              "       [0.3168873 ],\n",
              "       [0.31061013],\n",
              "       [0.29605295],\n",
              "       [0.29693225],\n",
              "       [0.29724977],\n",
              "       [0.30130428],\n",
              "       [0.29551561],\n",
              "       [0.30316057],\n",
              "       [0.30658004],\n",
              "       [0.30225685],\n",
              "       [0.31332128],\n",
              "       [0.31525084],\n",
              "       [0.31896341],\n",
              "       [0.32389722],\n",
              "       [0.33071174],\n",
              "       [0.32074642],\n",
              "       [0.31170925],\n",
              "       [0.31043916],\n",
              "       [0.31801084],\n",
              "       [0.29234038],\n",
              "       [0.28767525],\n",
              "       [0.30638464],\n",
              "       [0.29478286],\n",
              "       [0.30648234],\n",
              "       [0.30413756],\n",
              "       [0.29150994],\n",
              "       [0.2995457 ],\n",
              "       [0.30281862],\n",
              "       [0.30789898],\n",
              "       [0.28923843],\n",
              "       [0.30074251],\n",
              "       [0.29219384],\n",
              "       [0.28227737],\n",
              "       [0.2848664 ],\n",
              "       [0.29844658],\n",
              "       [0.30665331],\n",
              "       [0.27065117],\n",
              "       [0.25626496],\n",
              "       [0.26158957],\n",
              "       [0.27668409],\n",
              "       [0.27311807],\n",
              "       [0.2632993 ],\n",
              "       [0.23814176],\n",
              "       [0.23340335],\n",
              "       [0.22014069],\n",
              "       [0.23140052],\n",
              "       [0.23657857],\n",
              "       [0.21784476],\n",
              "       [0.19615554],\n",
              "       [0.19566704],\n",
              "       [0.18470031],\n",
              "       [0.19039129],\n",
              "       [0.18946314],\n",
              "       [0.20582776],\n",
              "       [0.20243271],\n",
              "       [0.2000635 ],\n",
              "       [0.21530458],\n",
              "       [0.19544722],\n",
              "       [0.19063553],\n",
              "       [0.17541889],\n",
              "       [0.17813004],\n",
              "       [0.17576083],\n",
              "       [0.1769088 ],\n",
              "       [0.18142739],\n",
              "       [0.16806702],\n",
              "       [0.1643056 ],\n",
              "       [0.16950808],\n",
              "       [0.15685604],\n",
              "       [0.14693957],\n",
              "       [0.13204045],\n",
              "       [0.12251478],\n",
              "       [0.14777002],\n",
              "       [0.14527869],\n",
              "       [0.14547409],\n",
              "       [0.14916223],\n",
              "       [0.14960188],\n",
              "       [0.11118167],\n",
              "       [0.12600752],\n",
              "       [0.1252015 ],\n",
              "       [0.1320893 ],\n",
              "       [0.13834204],\n",
              "       [0.13953886],\n",
              "       [0.13585072],\n",
              "       [0.13025744],\n",
              "       [0.13775585],\n",
              "       [0.14232329],\n",
              "       [0.14457037],\n",
              "       [0.14691515],\n",
              "       [0.13831762],\n",
              "       [0.13983196],\n",
              "       [0.13685213],\n",
              "       [0.14921108],\n",
              "       [0.14564506],\n",
              "       [0.14168824],\n",
              "       [0.16750525],\n",
              "       [0.1704118 ],\n",
              "       [0.1706072 ],\n",
              "       [0.18216013],\n",
              "       [0.18931659],\n",
              "       [0.18946314],\n",
              "       [0.18140296],\n",
              "       [0.18010845],\n",
              "       [0.17771482],\n",
              "       [0.18128084],\n",
              "       [0.17954668],\n",
              "       [0.18106101],\n",
              "       [0.18013287],\n",
              "       [0.18137854],\n",
              "       [0.18406526],\n",
              "       [0.18169606],\n",
              "       [0.18636119],\n",
              "       [0.18943872],\n",
              "       [0.18968297],\n",
              "       [0.19100191],\n",
              "       [0.18680084],\n",
              "       [0.19124615],\n",
              "       [0.19339554],\n",
              "       [0.19261394],\n",
              "       [0.19014704],\n",
              "       [0.18521323],\n",
              "       [0.18621465],\n",
              "       [0.2008451 ],\n",
              "       [0.20575448],\n",
              "       [0.20770847],\n",
              "       [0.21264227],\n",
              "       [0.2184798 ],\n",
              "       [0.22312051],\n",
              "       [0.21948122],\n",
              "       [0.22346246],\n",
              "       [0.24038884],\n",
              "       [0.23052123],\n",
              "       [0.2248791 ],\n",
              "       [0.22011626],\n",
              "       [0.22421963],\n",
              "       [0.22483025],\n",
              "       [0.2278345 ],\n",
              "       [0.2309853 ],\n",
              "       [0.23777539],\n",
              "       [0.24102389],\n",
              "       [0.24185433],\n",
              "       [0.24505398],\n",
              "       [0.25262567],\n",
              "       [0.25116018],\n",
              "       [0.25389575],\n",
              "       [0.24981681],\n",
              "       [0.24962142],\n",
              "       [0.25050071],\n",
              "       [0.25054956],\n",
              "       [0.26002638],\n",
              "       [0.26180939],\n",
              "       [0.26344585],\n",
              "       [0.27065117],\n",
              "       [0.26986957],\n",
              "       [0.26527771],\n",
              "       [0.26288408],\n",
              "       [0.26364125],\n",
              "       [0.25401788],\n",
              "       [0.2780763 ],\n",
              "       [0.27473011],\n",
              "       [0.28108055],\n",
              "       [0.27309364],\n",
              "       [0.25936691],\n",
              "       [0.25946461],\n",
              "       [0.25414   ],\n",
              "       [0.24549363],\n",
              "       [0.21750281],\n",
              "       [0.2246837 ],\n",
              "       [0.2302037 ],\n",
              "       [0.22815202],\n",
              "       [0.22551414],\n",
              "       [0.21107909],\n",
              "       [0.21965219],\n",
              "       [0.21032192],\n",
              "       [0.20270138],\n",
              "       [0.20101607],\n",
              "       [0.19920864],\n",
              "       [0.19713253],\n",
              "       [0.19937961],\n",
              "       [0.1914904 ],\n",
              "       [0.18716721],\n",
              "       [0.20265253],\n",
              "       [0.20973572],\n",
              "       [0.21628157],\n",
              "       [0.22832299],\n",
              "       [0.23425822],\n",
              "       [0.23970495],\n",
              "       [0.23819061],\n",
              "       [0.23809291],\n",
              "       [0.23464902],\n",
              "       [0.23745787],\n",
              "       [0.24859557],\n",
              "       [0.24717894],\n",
              "       [0.25106248],\n",
              "       [0.24940159],\n",
              "       [0.2489131 ],\n",
              "       [0.24156123],\n",
              "       [0.25189292],\n",
              "       [0.25174637],\n",
              "       [0.24730106],\n",
              "       [0.25616726],\n",
              "       [0.25904939],\n",
              "       [0.26315275],\n",
              "       [0.26271311],\n",
              "       [0.25243027],\n",
              "       [0.25541009],\n",
              "       [0.26027063],\n",
              "       [0.25665576],\n",
              "       [0.2604416 ],\n",
              "       [0.26510674],\n",
              "       [0.26337258],\n",
              "       [0.26056372],\n",
              "       [0.26620585],\n",
              "       [0.25870744],\n",
              "       [0.27001612],\n",
              "       [0.27397294],\n",
              "       [0.27355772],\n",
              "       [0.26952762],\n",
              "       [0.27128621],\n",
              "       [0.27602462],\n",
              "       [0.27382639],\n",
              "       [0.28423135],\n",
              "       [0.27297152],\n",
              "       [0.26220019],\n",
              "       [0.2361145 ],\n",
              "       [0.24505398],\n",
              "       [0.25003664],\n",
              "       [0.26075912],\n",
              "       [0.25479947],\n",
              "       [0.25355381],\n",
              "       [0.27429046],\n",
              "       [0.25909824],\n",
              "       [0.25663133],\n",
              "       [0.26825754],\n",
              "       [0.27766108],\n",
              "       [0.27768551],\n",
              "       [0.28325436],\n",
              "       [0.28281471],\n",
              "       [0.25882956],\n",
              "       [0.26823311],\n",
              "       [0.26254213],\n",
              "       [0.26588833],\n",
              "       [0.27438816],\n",
              "       [0.27372869],\n",
              "       [0.26630355],\n",
              "       [0.27482781],\n",
              "       [0.28481755],\n",
              "       [0.2847687 ],\n",
              "       [0.28699135],\n",
              "       [0.29317083],\n",
              "       [0.30999951],\n",
              "       [0.30877827],\n",
              "       [0.29817791],\n",
              "       [0.30098676],\n",
              "       [0.30294075],\n",
              "       [0.30799668],\n",
              "       [0.30357579],\n",
              "       [0.29568658],\n",
              "       [0.29810464],\n",
              "       [0.29556446],\n",
              "       [0.30374676],\n",
              "       [0.30096234],\n",
              "       [0.29834888],\n",
              "       [0.31092765],\n",
              "       [0.31244199],\n",
              "       [0.29869083],\n",
              "       [0.30323384],\n",
              "       [0.31835279],\n",
              "       [0.31847492],\n",
              "       [0.31197792],\n",
              "       [0.31840164],\n",
              "       [0.32587563],\n",
              "       [0.3408236 ],\n",
              "       [0.33999316],\n",
              "       [0.3386498 ],\n",
              "       [0.33632944],\n",
              "       [0.3385521 ],\n",
              "       [0.3413121 ],\n",
              "       [0.35132627]])"
            ]
          },
          "metadata": {
            "tags": []
          },
          "execution_count": 18
        }
      ]
    },
    {
      "cell_type": "code",
      "metadata": {
        "id": "GUvUXcoivQVW"
      },
      "source": [
        "import numpy\n",
        "# convert an array of values into a dataset matrix\n",
        "def create_dataset(dataset, time_step=1):\n",
        "\tdataX, dataY = [], []\n",
        "\tfor i in range(len(dataset)-time_step-1):\n",
        "\t\ta = dataset[i:(i+time_step), 0]   ###i=0, 0,1,2,3-----99   100 \n",
        "\t\tdataX.append(a)\n",
        "\t\tdataY.append(dataset[i + time_step, 0])\n",
        "\treturn numpy.array(dataX), numpy.array(dataY)"
      ],
      "execution_count": 19,
      "outputs": []
    },
    {
      "cell_type": "code",
      "metadata": {
        "id": "HNi0XWZCvQVW"
      },
      "source": [
        "# reshape into X=t,t+1,t+2,t+3 and Y=t+4\n",
        "time_step = 100\n",
        "X_train, y_train = create_dataset(train_data, time_step)\n",
        "X_test, ytest = create_dataset(test_data, time_step)"
      ],
      "execution_count": 20,
      "outputs": []
    },
    {
      "cell_type": "code",
      "metadata": {
        "colab": {
          "base_uri": "https://localhost:8080/"
        },
        "id": "A0oL8i3DvQVW",
        "outputId": "ada6eec4-22e3-41e6-dfca-4a3b0187cfc5"
      },
      "source": [
        "print(X_train.shape), print(y_train.shape)"
      ],
      "execution_count": 21,
      "outputs": [
        {
          "output_type": "stream",
          "text": [
            "(716, 100)\n",
            "(716,)\n"
          ],
          "name": "stdout"
        },
        {
          "output_type": "execute_result",
          "data": {
            "text/plain": [
              "(None, None)"
            ]
          },
          "metadata": {
            "tags": []
          },
          "execution_count": 21
        }
      ]
    },
    {
      "cell_type": "code",
      "metadata": {
        "colab": {
          "base_uri": "https://localhost:8080/"
        },
        "id": "SHyh4jzEvQVW",
        "outputId": "1fb7d778-e7f8-40fa-a0a2-c4b469436997"
      },
      "source": [
        "print(X_test.shape), print(ytest.shape)"
      ],
      "execution_count": 22,
      "outputs": [
        {
          "output_type": "stream",
          "text": [
            "(339, 100)\n",
            "(339,)\n"
          ],
          "name": "stdout"
        },
        {
          "output_type": "execute_result",
          "data": {
            "text/plain": [
              "(None, None)"
            ]
          },
          "metadata": {
            "tags": []
          },
          "execution_count": 22
        }
      ]
    },
    {
      "cell_type": "code",
      "metadata": {
        "id": "4nuhBXsdvQVX"
      },
      "source": [
        "# reshape input to be [samples, time steps, features] which is required for LSTM\n",
        "X_train =X_train.reshape(X_train.shape[0],X_train.shape[1] , 1)\n",
        "X_test = X_test.reshape(X_test.shape[0],X_test.shape[1] , 1)"
      ],
      "execution_count": 23,
      "outputs": []
    },
    {
      "cell_type": "code",
      "metadata": {
        "id": "Yaa-Urf3vQVX"
      },
      "source": [
        "### Create the Stacked LSTM model\n",
        "from tensorflow.keras.models import Sequential\n",
        "from tensorflow.keras.layers import Dense\n",
        "from tensorflow.keras.layers import LSTM"
      ],
      "execution_count": 24,
      "outputs": []
    },
    {
      "cell_type": "code",
      "metadata": {
        "id": "UWGYT-oCvQVX"
      },
      "source": [
        "model=Sequential()\n",
        "model.add(LSTM(50,return_sequences=True,input_shape=(100,1)))\n",
        "model.add(LSTM(50,return_sequences=True))\n",
        "model.add(LSTM(50))\n",
        "model.add(Dense(1))\n",
        "model.compile(loss='mean_squared_error',optimizer='adam')\n"
      ],
      "execution_count": 25,
      "outputs": []
    },
    {
      "cell_type": "code",
      "metadata": {
        "colab": {
          "base_uri": "https://localhost:8080/"
        },
        "id": "MMwAtBzUvQVX",
        "outputId": "2bbb33cd-ba51-4fbc-8f2f-343fc2799f4c"
      },
      "source": [
        "model.summary()"
      ],
      "execution_count": 26,
      "outputs": [
        {
          "output_type": "stream",
          "text": [
            "Model: \"sequential\"\n",
            "_________________________________________________________________\n",
            "Layer (type)                 Output Shape              Param #   \n",
            "=================================================================\n",
            "lstm (LSTM)                  (None, 100, 50)           10400     \n",
            "_________________________________________________________________\n",
            "lstm_1 (LSTM)                (None, 100, 50)           20200     \n",
            "_________________________________________________________________\n",
            "lstm_2 (LSTM)                (None, 50)                20200     \n",
            "_________________________________________________________________\n",
            "dense (Dense)                (None, 1)                 51        \n",
            "=================================================================\n",
            "Total params: 50,851\n",
            "Trainable params: 50,851\n",
            "Non-trainable params: 0\n",
            "_________________________________________________________________\n"
          ],
          "name": "stdout"
        }
      ]
    },
    {
      "cell_type": "code",
      "metadata": {
        "colab": {
          "base_uri": "https://localhost:8080/"
        },
        "id": "BNHkIJ-ovQVY",
        "outputId": "b84f5a0d-2ae7-4f5d-af92-44aa22fef2ca"
      },
      "source": [
        "model.summary()"
      ],
      "execution_count": 27,
      "outputs": [
        {
          "output_type": "stream",
          "text": [
            "Model: \"sequential\"\n",
            "_________________________________________________________________\n",
            "Layer (type)                 Output Shape              Param #   \n",
            "=================================================================\n",
            "lstm (LSTM)                  (None, 100, 50)           10400     \n",
            "_________________________________________________________________\n",
            "lstm_1 (LSTM)                (None, 100, 50)           20200     \n",
            "_________________________________________________________________\n",
            "lstm_2 (LSTM)                (None, 50)                20200     \n",
            "_________________________________________________________________\n",
            "dense (Dense)                (None, 1)                 51        \n",
            "=================================================================\n",
            "Total params: 50,851\n",
            "Trainable params: 50,851\n",
            "Non-trainable params: 0\n",
            "_________________________________________________________________\n"
          ],
          "name": "stdout"
        }
      ]
    },
    {
      "cell_type": "code",
      "metadata": {
        "id": "qjEpzmFcvQVY"
      },
      "source": [
        ""
      ],
      "execution_count": 27,
      "outputs": []
    },
    {
      "cell_type": "code",
      "metadata": {
        "colab": {
          "base_uri": "https://localhost:8080/"
        },
        "id": "jwQL4HVrvQVY",
        "outputId": "06fd5e5f-868f-4d46-90e7-7049ac46f9d2"
      },
      "source": [
        "model.fit(X_train,y_train,validation_data=(X_test,ytest),epochs=100,batch_size=64,verbose=1)"
      ],
      "execution_count": null,
      "outputs": [
        {
          "output_type": "stream",
          "text": [
            "Epoch 1/100\n",
            "12/12 [==============================] - 8s 276ms/step - loss: 0.0068 - val_loss: 0.0395\n",
            "Epoch 2/100\n",
            "12/12 [==============================] - 2s 174ms/step - loss: 0.0018 - val_loss: 0.0279\n",
            "Epoch 3/100\n",
            "12/12 [==============================] - 2s 171ms/step - loss: 9.8323e-04 - val_loss: 0.0232\n",
            "Epoch 4/100\n",
            "12/12 [==============================] - 2s 175ms/step - loss: 6.7633e-04 - val_loss: 0.0215\n",
            "Epoch 5/100\n",
            "12/12 [==============================] - 2s 178ms/step - loss: 5.2944e-04 - val_loss: 0.0211\n",
            "Epoch 6/100\n",
            "12/12 [==============================] - 2s 177ms/step - loss: 4.8364e-04 - val_loss: 0.0210\n",
            "Epoch 7/100\n",
            "12/12 [==============================] - 2s 172ms/step - loss: 4.6743e-04 - val_loss: 0.0204\n",
            "Epoch 8/100\n",
            "12/12 [==============================] - 2s 174ms/step - loss: 4.5218e-04 - val_loss: 0.0200\n",
            "Epoch 9/100\n",
            "12/12 [==============================] - 2s 172ms/step - loss: 4.6802e-04 - val_loss: 0.0201\n",
            "Epoch 10/100\n",
            "12/12 [==============================] - 2s 173ms/step - loss: 4.4294e-04 - val_loss: 0.0188\n",
            "Epoch 11/100\n",
            "12/12 [==============================] - 2s 173ms/step - loss: 4.1386e-04 - val_loss: 0.0180\n",
            "Epoch 12/100\n",
            "12/12 [==============================] - 2s 172ms/step - loss: 3.7928e-04 - val_loss: 0.0171\n",
            "Epoch 13/100\n",
            "12/12 [==============================] - 2s 174ms/step - loss: 3.5413e-04 - val_loss: 0.0164\n",
            "Epoch 14/100\n",
            "12/12 [==============================] - 2s 173ms/step - loss: 3.3195e-04 - val_loss: 0.0157\n",
            "Epoch 15/100\n",
            "12/12 [==============================] - 2s 173ms/step - loss: 3.5457e-04 - val_loss: 0.0154\n",
            "Epoch 16/100\n",
            "12/12 [==============================] - 2s 175ms/step - loss: 3.0800e-04 - val_loss: 0.0152\n",
            "Epoch 17/100\n",
            "12/12 [==============================] - 2s 172ms/step - loss: 2.8723e-04 - val_loss: 0.0154\n",
            "Epoch 18/100\n",
            "12/12 [==============================] - 2s 173ms/step - loss: 2.7051e-04 - val_loss: 0.0159\n",
            "Epoch 19/100\n",
            "12/12 [==============================] - 2s 173ms/step - loss: 2.7450e-04 - val_loss: 0.0151\n",
            "Epoch 20/100\n",
            "12/12 [==============================] - 2s 173ms/step - loss: 2.5655e-04 - val_loss: 0.0148\n",
            "Epoch 21/100\n",
            "12/12 [==============================] - 2s 176ms/step - loss: 2.9421e-04 - val_loss: 0.0152\n",
            "Epoch 22/100\n",
            "12/12 [==============================] - 2s 175ms/step - loss: 2.9131e-04 - val_loss: 0.0139\n",
            "Epoch 23/100\n",
            "12/12 [==============================] - 2s 173ms/step - loss: 2.6127e-04 - val_loss: 0.0139\n",
            "Epoch 24/100\n",
            "12/12 [==============================] - 2s 172ms/step - loss: 2.4935e-04 - val_loss: 0.0138\n",
            "Epoch 25/100\n",
            "12/12 [==============================] - 2s 178ms/step - loss: 2.4769e-04 - val_loss: 0.0140\n",
            "Epoch 26/100\n",
            "12/12 [==============================] - 2s 175ms/step - loss: 2.3695e-04 - val_loss: 0.0139\n",
            "Epoch 27/100\n",
            "12/12 [==============================] - 2s 175ms/step - loss: 2.2876e-04 - val_loss: 0.0143\n",
            "Epoch 28/100\n",
            "12/12 [==============================] - 2s 173ms/step - loss: 2.6075e-04 - val_loss: 0.0137\n",
            "Epoch 29/100\n",
            "12/12 [==============================] - 2s 172ms/step - loss: 2.2962e-04 - val_loss: 0.0129\n",
            "Epoch 30/100\n",
            "12/12 [==============================] - 2s 172ms/step - loss: 2.3952e-04 - val_loss: 0.0129\n",
            "Epoch 31/100\n",
            "12/12 [==============================] - 2s 174ms/step - loss: 2.4257e-04 - val_loss: 0.0130\n",
            "Epoch 32/100\n",
            "12/12 [==============================] - 2s 175ms/step - loss: 2.2411e-04 - val_loss: 0.0129\n",
            "Epoch 33/100\n",
            "12/12 [==============================] - 2s 174ms/step - loss: 2.0645e-04 - val_loss: 0.0130\n",
            "Epoch 34/100\n",
            "12/12 [==============================] - 2s 175ms/step - loss: 2.1294e-04 - val_loss: 0.0133\n",
            "Epoch 35/100\n",
            "12/12 [==============================] - 2s 174ms/step - loss: 2.2286e-04 - val_loss: 0.0134\n",
            "Epoch 36/100\n",
            "12/12 [==============================] - 2s 178ms/step - loss: 2.0549e-04 - val_loss: 0.0131\n",
            "Epoch 37/100\n",
            "12/12 [==============================] - 2s 173ms/step - loss: 2.1219e-04 - val_loss: 0.0129\n",
            "Epoch 38/100\n",
            "12/12 [==============================] - 2s 175ms/step - loss: 1.9391e-04 - val_loss: 0.0133\n",
            "Epoch 39/100\n",
            "12/12 [==============================] - 2s 172ms/step - loss: 2.0627e-04 - val_loss: 0.0139\n",
            "Epoch 40/100\n",
            "12/12 [==============================] - 2s 175ms/step - loss: 2.0615e-04 - val_loss: 0.0136\n",
            "Epoch 41/100\n",
            "12/12 [==============================] - 2s 173ms/step - loss: 1.9270e-04 - val_loss: 0.0121\n",
            "Epoch 42/100\n",
            "12/12 [==============================] - 2s 170ms/step - loss: 2.0086e-04 - val_loss: 0.0132\n",
            "Epoch 43/100\n",
            "12/12 [==============================] - 2s 171ms/step - loss: 1.8946e-04 - val_loss: 0.0124\n",
            "Epoch 44/100\n",
            "12/12 [==============================] - 2s 175ms/step - loss: 1.8982e-04 - val_loss: 0.0128\n",
            "Epoch 45/100\n",
            "12/12 [==============================] - 2s 173ms/step - loss: 1.7726e-04 - val_loss: 0.0123\n",
            "Epoch 46/100\n",
            "12/12 [==============================] - 2s 174ms/step - loss: 1.8734e-04 - val_loss: 0.0124\n",
            "Epoch 47/100\n",
            "12/12 [==============================] - 2s 175ms/step - loss: 1.7556e-04 - val_loss: 0.0125\n",
            "Epoch 48/100\n",
            "12/12 [==============================] - 2s 175ms/step - loss: 1.9430e-04 - val_loss: 0.0132\n",
            "Epoch 49/100\n",
            "12/12 [==============================] - 2s 176ms/step - loss: 2.3120e-04 - val_loss: 0.0113\n",
            "Epoch 50/100\n",
            "12/12 [==============================] - 2s 175ms/step - loss: 2.0034e-04 - val_loss: 0.0112\n",
            "Epoch 51/100\n",
            "12/12 [==============================] - 2s 176ms/step - loss: 1.7773e-04 - val_loss: 0.0115\n",
            "Epoch 52/100\n",
            "12/12 [==============================] - 2s 178ms/step - loss: 1.6597e-04 - val_loss: 0.0133\n",
            "Epoch 53/100\n",
            "12/12 [==============================] - 2s 175ms/step - loss: 2.0442e-04 - val_loss: 0.0114\n",
            "Epoch 54/100\n",
            "12/12 [==============================] - 2s 175ms/step - loss: 1.6706e-04 - val_loss: 0.0115\n",
            "Epoch 55/100\n",
            "12/12 [==============================] - 2s 176ms/step - loss: 1.6136e-04 - val_loss: 0.0119\n",
            "Epoch 56/100\n",
            "12/12 [==============================] - 2s 179ms/step - loss: 1.6023e-04 - val_loss: 0.0115\n",
            "Epoch 57/100\n",
            "12/12 [==============================] - 2s 173ms/step - loss: 1.5438e-04 - val_loss: 0.0112\n",
            "Epoch 58/100\n",
            "12/12 [==============================] - 2s 171ms/step - loss: 1.6638e-04 - val_loss: 0.0107\n",
            "Epoch 59/100\n",
            "12/12 [==============================] - 2s 173ms/step - loss: 1.5466e-04 - val_loss: 0.0114\n",
            "Epoch 60/100\n",
            "12/12 [==============================] - 2s 174ms/step - loss: 1.5901e-04 - val_loss: 0.0105\n",
            "Epoch 61/100\n",
            "12/12 [==============================] - 2s 176ms/step - loss: 1.6182e-04 - val_loss: 0.0105\n",
            "Epoch 62/100\n",
            "12/12 [==============================] - 2s 176ms/step - loss: 1.5634e-04 - val_loss: 0.0102\n",
            "Epoch 63/100\n",
            "12/12 [==============================] - 2s 173ms/step - loss: 1.5337e-04 - val_loss: 0.0097\n",
            "Epoch 64/100\n",
            "12/12 [==============================] - 2s 175ms/step - loss: 1.6387e-04 - val_loss: 0.0097\n",
            "Epoch 65/100\n",
            "12/12 [==============================] - 2s 174ms/step - loss: 1.5083e-04 - val_loss: 0.0090\n",
            "Epoch 66/100\n",
            "12/12 [==============================] - 2s 174ms/step - loss: 1.4229e-04 - val_loss: 0.0089\n",
            "Epoch 67/100\n",
            "12/12 [==============================] - 2s 171ms/step - loss: 1.3692e-04 - val_loss: 0.0093\n",
            "Epoch 68/100\n",
            "12/12 [==============================] - 2s 174ms/step - loss: 1.3925e-04 - val_loss: 0.0088\n",
            "Epoch 69/100\n",
            "12/12 [==============================] - 2s 173ms/step - loss: 1.4828e-04 - val_loss: 0.0081\n",
            "Epoch 70/100\n",
            "12/12 [==============================] - 2s 176ms/step - loss: 1.4001e-04 - val_loss: 0.0080\n",
            "Epoch 71/100\n",
            "12/12 [==============================] - 2s 173ms/step - loss: 1.5099e-04 - val_loss: 0.0088\n",
            "Epoch 72/100\n",
            "12/12 [==============================] - 2s 175ms/step - loss: 1.3967e-04 - val_loss: 0.0085\n",
            "Epoch 73/100\n",
            "12/12 [==============================] - 2s 178ms/step - loss: 1.4384e-04 - val_loss: 0.0079\n",
            "Epoch 74/100\n",
            "12/12 [==============================] - 2s 176ms/step - loss: 1.3205e-04 - val_loss: 0.0084\n",
            "Epoch 75/100\n",
            "12/12 [==============================] - 2s 173ms/step - loss: 1.4462e-04 - val_loss: 0.0075\n",
            "Epoch 76/100\n",
            "12/12 [==============================] - 2s 173ms/step - loss: 1.2811e-04 - val_loss: 0.0072\n",
            "Epoch 77/100\n",
            "12/12 [==============================] - 2s 175ms/step - loss: 1.2525e-04 - val_loss: 0.0071\n",
            "Epoch 78/100\n",
            "12/12 [==============================] - 2s 174ms/step - loss: 1.2203e-04 - val_loss: 0.0069\n",
            "Epoch 79/100\n",
            "12/12 [==============================] - 2s 177ms/step - loss: 1.2974e-04 - val_loss: 0.0068\n",
            "Epoch 80/100\n",
            "12/12 [==============================] - 2s 173ms/step - loss: 1.3194e-04 - val_loss: 0.0067\n",
            "Epoch 81/100\n",
            "12/12 [==============================] - 2s 174ms/step - loss: 1.2017e-04 - val_loss: 0.0065\n",
            "Epoch 82/100\n",
            "12/12 [==============================] - 2s 172ms/step - loss: 1.1456e-04 - val_loss: 0.0064\n",
            "Epoch 83/100\n",
            "12/12 [==============================] - 2s 174ms/step - loss: 1.1195e-04 - val_loss: 0.0065\n",
            "Epoch 84/100\n",
            "12/12 [==============================] - 2s 176ms/step - loss: 1.3202e-04 - val_loss: 0.0064\n",
            "Epoch 85/100\n",
            "12/12 [==============================] - 2s 177ms/step - loss: 1.1499e-04 - val_loss: 0.0057\n",
            "Epoch 86/100\n",
            "12/12 [==============================] - 2s 178ms/step - loss: 1.1464e-04 - val_loss: 0.0060\n",
            "Epoch 87/100\n",
            "12/12 [==============================] - 2s 177ms/step - loss: 1.1561e-04 - val_loss: 0.0063\n",
            "Epoch 88/100\n",
            "12/12 [==============================] - 2s 175ms/step - loss: 1.3301e-04 - val_loss: 0.0058\n",
            "Epoch 89/100\n",
            "12/12 [==============================] - 2s 179ms/step - loss: 1.1182e-04 - val_loss: 0.0056\n",
            "Epoch 90/100\n",
            "12/12 [==============================] - 2s 174ms/step - loss: 1.0475e-04 - val_loss: 0.0058\n",
            "Epoch 91/100\n",
            "12/12 [==============================] - 2s 176ms/step - loss: 1.1087e-04 - val_loss: 0.0056\n",
            "Epoch 92/100\n",
            "12/12 [==============================] - 2s 176ms/step - loss: 1.0923e-04 - val_loss: 0.0055\n",
            "Epoch 93/100\n",
            "12/12 [==============================] - 2s 177ms/step - loss: 1.0241e-04 - val_loss: 0.0056\n",
            "Epoch 94/100\n",
            "12/12 [==============================] - 2s 175ms/step - loss: 1.0808e-04 - val_loss: 0.0054\n",
            "Epoch 95/100\n",
            "12/12 [==============================] - 2s 174ms/step - loss: 1.0264e-04 - val_loss: 0.0052\n",
            "Epoch 96/100\n",
            "12/12 [==============================] - 2s 177ms/step - loss: 1.3452e-04 - val_loss: 0.0052\n",
            "Epoch 97/100\n",
            "12/12 [==============================] - 2s 174ms/step - loss: 1.1880e-04 - val_loss: 0.0050\n",
            "Epoch 98/100\n",
            "12/12 [==============================] - 2s 173ms/step - loss: 1.1898e-04 - val_loss: 0.0053\n",
            "Epoch 99/100\n",
            "12/12 [==============================] - 2s 174ms/step - loss: 1.2987e-04 - val_loss: 0.0049\n",
            "Epoch 100/100\n",
            "12/12 [==============================] - 2s 172ms/step - loss: 1.0502e-04 - val_loss: 0.0050\n"
          ],
          "name": "stdout"
        }
      ]
    },
    {
      "cell_type": "code",
      "metadata": {
        "id": "p14SDHkZvQVY"
      },
      "source": [
        "import tensorflow as tf"
      ],
      "execution_count": null,
      "outputs": []
    },
    {
      "cell_type": "code",
      "metadata": {
        "id": "43811YNqvQVY"
      },
      "source": [
        "tf.__version__"
      ],
      "execution_count": null,
      "outputs": []
    },
    {
      "cell_type": "code",
      "metadata": {
        "id": "Fovl6CScvQVY"
      },
      "source": [
        "### Lets Do the prediction and check performance metrics\n",
        "train_predict=model.predict(X_train)\n",
        "test_predict=model.predict(X_test)"
      ],
      "execution_count": null,
      "outputs": []
    },
    {
      "cell_type": "code",
      "metadata": {
        "id": "j10j7iR9vQVZ"
      },
      "source": [
        "##Transformback to original form\n",
        "train_predict=scaler.inverse_transform(train_predict)\n",
        "test_predict=scaler.inverse_transform(test_predict)"
      ],
      "execution_count": null,
      "outputs": []
    },
    {
      "cell_type": "code",
      "metadata": {
        "id": "XD6xLAeMvQVZ"
      },
      "source": [
        "### Calculate RMSE performance metrics\n",
        "import math\n",
        "from sklearn.metrics import mean_squared_error\n",
        "math.sqrt(mean_squared_error(y_train,train_predict))"
      ],
      "execution_count": null,
      "outputs": []
    },
    {
      "cell_type": "code",
      "metadata": {
        "id": "ErDpQ71evQVZ"
      },
      "source": [
        "### Test Data RMSE\n",
        "math.sqrt(mean_squared_error(ytest,test_predict))"
      ],
      "execution_count": null,
      "outputs": []
    },
    {
      "cell_type": "code",
      "metadata": {
        "id": "aWiwbM1TvQVZ"
      },
      "source": [
        "### Plotting \n",
        "# shift train predictions for plotting\n",
        "look_back=100\n",
        "trainPredictPlot = numpy.empty_like(df1)\n",
        "trainPredictPlot[:, :] = np.nan\n",
        "trainPredictPlot[look_back:len(train_predict)+look_back, :] = train_predict\n",
        "# shift test predictions for plotting\n",
        "testPredictPlot = numpy.empty_like(df1)\n",
        "testPredictPlot[:, :] = numpy.nan\n",
        "testPredictPlot[len(train_predict)+(look_back*2)+1:len(df1)-1, :] = test_predict\n",
        "# plot baseline and predictions\n",
        "plt.plot(scaler.inverse_transform(df1))\n",
        "plt.plot(trainPredictPlot)\n",
        "plt.plot(testPredictPlot)\n",
        "plt.show()"
      ],
      "execution_count": null,
      "outputs": []
    },
    {
      "cell_type": "code",
      "metadata": {
        "id": "0KO3s53qvQVa"
      },
      "source": [
        "len(test_data)"
      ],
      "execution_count": null,
      "outputs": []
    },
    {
      "cell_type": "code",
      "metadata": {
        "id": "BcsxKontvQVa"
      },
      "source": [
        "x_input=test_data[341:].reshape(1,-1)\n",
        "x_input.shape\n"
      ],
      "execution_count": null,
      "outputs": []
    },
    {
      "cell_type": "code",
      "metadata": {
        "id": "ETDUvgWFvQVa"
      },
      "source": [
        ""
      ],
      "execution_count": null,
      "outputs": []
    },
    {
      "cell_type": "code",
      "metadata": {
        "id": "VADB4XJ7vQVb"
      },
      "source": [
        ""
      ],
      "execution_count": null,
      "outputs": []
    },
    {
      "cell_type": "code",
      "metadata": {
        "id": "bwKtzpBavQVb"
      },
      "source": [
        "temp_input=list(x_input)\n",
        "temp_input=temp_input[0].tolist()"
      ],
      "execution_count": null,
      "outputs": []
    },
    {
      "cell_type": "code",
      "metadata": {
        "id": "riekaJAMvQVb"
      },
      "source": [
        "temp_input"
      ],
      "execution_count": null,
      "outputs": []
    },
    {
      "cell_type": "code",
      "metadata": {
        "id": "97yC6BJovQVb"
      },
      "source": [
        "# demonstrate prediction for next 10 days\n",
        "from numpy import array\n",
        "\n",
        "lst_output=[]\n",
        "n_steps=100\n",
        "i=0\n",
        "while(i<30):\n",
        "    \n",
        "    if(len(temp_input)>100):\n",
        "        #print(temp_input)\n",
        "        x_input=np.array(temp_input[1:])\n",
        "        print(\"{} day input {}\".format(i,x_input))\n",
        "        x_input=x_input.reshape(1,-1)\n",
        "        x_input = x_input.reshape((1, n_steps, 1))\n",
        "        #print(x_input)\n",
        "        yhat = model.predict(x_input, verbose=0)\n",
        "        print(\"{} day output {}\".format(i,yhat))\n",
        "        temp_input.extend(yhat[0].tolist())\n",
        "        temp_input=temp_input[1:]\n",
        "        #print(temp_input)\n",
        "        lst_output.extend(yhat.tolist())\n",
        "        i=i+1\n",
        "    else:\n",
        "        x_input = x_input.reshape((1, n_steps,1))\n",
        "        yhat = model.predict(x_input, verbose=0)\n",
        "        print(yhat[0])\n",
        "        temp_input.extend(yhat[0].tolist())\n",
        "        print(len(temp_input))\n",
        "        lst_output.extend(yhat.tolist())\n",
        "        i=i+1\n",
        "    \n",
        "\n",
        "print(lst_output)"
      ],
      "execution_count": null,
      "outputs": []
    },
    {
      "cell_type": "code",
      "metadata": {
        "id": "Y3g4eyj2vQVc"
      },
      "source": [
        "day_new=np.arange(1,101)\n",
        "day_pred=np.arange(101,131)"
      ],
      "execution_count": null,
      "outputs": []
    },
    {
      "cell_type": "code",
      "metadata": {
        "id": "OOvhrIj7vQVc"
      },
      "source": [
        "import matplotlib.pyplot as plt"
      ],
      "execution_count": null,
      "outputs": []
    },
    {
      "cell_type": "code",
      "metadata": {
        "id": "hvzYpqGAvQVc"
      },
      "source": [
        "len(df1)"
      ],
      "execution_count": null,
      "outputs": []
    },
    {
      "cell_type": "code",
      "metadata": {
        "id": "SMcdyuuRvQVc"
      },
      "source": [
        ""
      ],
      "execution_count": null,
      "outputs": []
    },
    {
      "cell_type": "code",
      "metadata": {
        "id": "8J69MhFXvQVc"
      },
      "source": [
        "plt.plot(day_new,scaler.inverse_transform(df1[1158:]))\n",
        "plt.plot(day_pred,scaler.inverse_transform(lst_output))"
      ],
      "execution_count": null,
      "outputs": []
    },
    {
      "cell_type": "code",
      "metadata": {
        "id": "ca0FK_89vQVd"
      },
      "source": [
        "df3=df1.tolist()\n",
        "df3.extend(lst_output)\n",
        "plt.plot(df3[1200:])"
      ],
      "execution_count": null,
      "outputs": []
    },
    {
      "cell_type": "code",
      "metadata": {
        "id": "vwxuC0_EvQVd"
      },
      "source": [
        "df3=scaler.inverse_transform(df3).tolist()"
      ],
      "execution_count": null,
      "outputs": []
    },
    {
      "cell_type": "code",
      "metadata": {
        "id": "-EZ0af2YvQVd"
      },
      "source": [
        "plt.plot(df3)"
      ],
      "execution_count": null,
      "outputs": []
    },
    {
      "cell_type": "code",
      "metadata": {
        "id": "T0-hUBzCvQVd"
      },
      "source": [
        ""
      ],
      "execution_count": null,
      "outputs": []
    }
  ]
}